{
 "cells": [
  {
   "cell_type": "code",
   "execution_count": 2,
   "id": "b1255f10",
   "metadata": {},
   "outputs": [
    {
     "name": "stdout",
     "output_type": "stream",
     "text": [
      "사용할 숫자: [4, 1, 5, 6]\n",
      "계산 결과: 10\n",
      "🎉 정답입니다!\n"
     ]
    }
   ],
   "source": [
    "import random\n",
    "\n",
    "# 1. 랜덤한 4자리 숫자 생성\n",
    "digits = random.sample(range(1, 10), 4)\n",
    "print(\"사용할 숫자:\", digits)\n",
    "\n",
    "# 2. 사용자 수식 입력\n",
    "expression = input(\"숫자들을 사용해서 수식을 입력하세요 (예: 1+3+7-8): \")\n",
    "\n",
    "# 3. 숫자/연산자 분리\n",
    "tokens = []\n",
    "num = ''\n",
    "for ch in expression:\n",
    "    if ch.isdigit():\n",
    "        num += ch\n",
    "    else:\n",
    "        tokens.append(int(num))\n",
    "        tokens.append(ch)\n",
    "        num = ''\n",
    "# 마지막 숫자 추가\n",
    "if num:\n",
    "    tokens.append(int(num))\n",
    "\n",
    "# 4. 왼쪽에서부터 순서대로 계산\n",
    "result = tokens[0]\n",
    "i = 1\n",
    "while i < len(tokens):\n",
    "    op = tokens[i]\n",
    "    num = tokens[i+1]\n",
    "    if op == '+':\n",
    "        result += num\n",
    "    elif op == '-':\n",
    "        result -= num\n",
    "    elif op == '*':\n",
    "        result *= num\n",
    "    elif op == '/':\n",
    "        result /= num\n",
    "    i += 2\n",
    "\n",
    "# 5. 결과 출력\n",
    "print(\"계산 결과:\", result)\n",
    "if result == 10 or result == 20:\n",
    "    print(\"🎉 정답입니다!\")\n",
    "else:\n",
    "    print(\"❌ 오답입니다.\")\n"
   ]
  }
 ],
 "metadata": {
  "kernelspec": {
   "display_name": "pystudy_env",
   "language": "python",
   "name": "python3"
  },
  "language_info": {
   "codemirror_mode": {
    "name": "ipython",
    "version": 3
   },
   "file_extension": ".py",
   "mimetype": "text/x-python",
   "name": "python",
   "nbconvert_exporter": "python",
   "pygments_lexer": "ipython3",
   "version": "3.12.11"
  }
 },
 "nbformat": 4,
 "nbformat_minor": 5
}
