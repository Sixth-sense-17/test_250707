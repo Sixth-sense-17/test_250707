{
 "cells": [
  {
   "cell_type": "code",
   "execution_count": 7,
   "id": "7d09af04",
   "metadata": {},
   "outputs": [],
   "source": [
    "def choice_pet():\n",
    "    # 강아지/고양이 선택\n",
    "    while True:\n",
    "        answer = input('당신은 집순이 입니까? (Yes/No) :')\n",
    "        if answer == 'Yes':\n",
    "            pet_type = 'cat'\n",
    "            print(f'당신은 {pet_type}을[를] 줍줍하였습니다.')\n",
    "            break\n",
    "        elif answer == 'No':\n",
    "            pet_type = 'dog'\n",
    "            print(f'당신은 {pet_type}을[를] 줍줍하였습니다.')\n",
    "            break\n",
    "        else:\n",
    "            print('Yes 또는 No 정확하게 입력해주세요!!!!')\n",
    "    \n",
    "    # 이름 짓기\n",
    "    name = input(f'{pet_type}의 이름을 정해주세요.')\n",
    "    print(f'{pet_type}의 이름은 {name}입니다. 멋진 이름이에요 :)')\n",
    "\n",
    "    return pet_type, name"
   ]
  },
  {
   "cell_type": "code",
   "execution_count": 8,
   "id": "b2208087",
   "metadata": {},
   "outputs": [],
   "source": [
    "def pet_info(pet, name, level):\n",
    "    print(f'내가 키우는 애완동물은 {pet}입니다.')\n",
    "    print(f'이름은 {name}입니다.')\n",
    "    print(f'경험치는 {level}입니다.')"
   ]
  },
  {
   "cell_type": "code",
   "execution_count": 9,
   "id": "61b652b3",
   "metadata": {},
   "outputs": [],
   "source": [
    "def feed_pet(choice, name):\n",
    "    if choice == 'food':\n",
    "        print(f'{name}은 밥을 맛있게 먹었습니다! 냠냠')\n",
    "        return 5\n",
    "    elif choice == 'water':\n",
    "        print(f'{name}은 물을 맛있게 먹었습니다! 홀짝')\n",
    "        return 3\n"
   ]
  },
  {
   "cell_type": "code",
   "execution_count": 13,
   "id": "9c7ffca7",
   "metadata": {},
   "outputs": [],
   "source": [
    "def play_pet(name, my_pet):\n",
    "    if my_pet == 'dog':\n",
    "        print(f'{name}와 산책을 다녀왔습니다. {name}이(가) 기분이 좋아 보이네요 ㅎㅎ')\n",
    "        return 10\n",
    "    else:\n",
    "        print(f'{name}와 사냥놀이를 했습니다. {name}이(가) 뿌듯해 보이네요 ㅎㅎ')\n",
    "        return 10"
   ]
  },
  {
   "cell_type": "code",
   "execution_count": 14,
   "id": "fa4ec839",
   "metadata": {},
   "outputs": [
    {
     "name": "stdout",
     "output_type": "stream",
     "text": [
      "당신은 cat을[를] 줍줍하였습니다.\n",
      "cat의 이름은 나비입니다. 멋진 이름이에요 :)\n",
      "내가 키우는 애완동물은 cat입니다.\n",
      "이름은 나비입니다.\n",
      "경험치는 0입니다.\n",
      "나비은 밥을 맛있게 먹었습니다! 냠냠\n",
      "나비의 경험치는 --> 5\n",
      "나비은 물을 맛있게 먹었습니다! 홀짝\n",
      "나비의 경험치는 --> 8\n",
      "나비와 사냥놀이를 했습니다. 나비이(가) 뿌듯해 보이네요 ㅎㅎ\n",
      "나비의 경험치는 --> 18\n",
      "나비와 사냥놀이를 했습니다. 나비이(가) 뿌듯해 보이네요 ㅎㅎ\n",
      "나비의 경험치는 --> 28\n",
      "나비와 사냥놀이를 했습니다. 나비이(가) 뿌듯해 보이네요 ㅎㅎ\n",
      "나비의 경험치는 --> 38\n",
      "나비와 사냥놀이를 했습니다. 나비이(가) 뿌듯해 보이네요 ㅎㅎ\n",
      "나비의 경험치는 --> 48\n",
      "나비와 사냥놀이를 했습니다. 나비이(가) 뿌듯해 보이네요 ㅎㅎ\n",
      "나비의 경험치는 --> 58\n",
      "나비와 사냥놀이를 했습니다. 나비이(가) 뿌듯해 보이네요 ㅎㅎ\n",
      "나비의 경험치는 --> 68\n",
      "나비와 사냥놀이를 했습니다. 나비이(가) 뿌듯해 보이네요 ㅎㅎ\n",
      "나비의 경험치는 --> 78\n",
      "나비와 사냥놀이를 했습니다. 나비이(가) 뿌듯해 보이네요 ㅎㅎ\n",
      "나비의 경험치는 --> 88\n",
      "나비와 사냥놀이를 했습니다. 나비이(가) 뿌듯해 보이네요 ㅎㅎ\n",
      "나비의 경험치는 --> 98\n",
      "나비와 사냥놀이를 했습니다. 나비이(가) 뿌듯해 보이네요 ㅎㅎ\n",
      "나비의 경험치는 --> 108\n",
      "축하합니다! 당신의 나비은 건강하게 다 자랐습니다~\n"
     ]
    }
   ],
   "source": [
    "level = 0       # 초기 경험치 0\n",
    "my_pet, name = choice_pet()  \n",
    "pet_info(my_pet, name, level)\n",
    "\n",
    "while True:\n",
    "    if level < 100:\n",
    "        doing = input('무엇을 하시겠습니까? (밥/물/놀기)')\n",
    "        if doing == '밥':\n",
    "            food_level = feed_pet('food', name)\n",
    "            level += food_level\n",
    "            print(f'{name}의 경험치는 -->', level)\n",
    "        elif doing == '물':\n",
    "            water_level = feed_pet('water', name)\n",
    "            level += water_level\n",
    "            print(f'{name}의 경험치는 -->', level)\n",
    "        elif doing == '놀기':\n",
    "            play_level = play_pet(name, my_pet)\n",
    "            level += play_level\n",
    "            print(f'{name}의 경험치는 -->', level)\n",
    "\n",
    "    elif level >= 10:\n",
    "        print(f'축하합니다! 당신의 {name}은 건강하게 다 자랐습니다~')\n",
    "        break"
   ]
  }
 ],
 "metadata": {
  "kernelspec": {
   "display_name": "pystudy_env",
   "language": "python",
   "name": "python3"
  },
  "language_info": {
   "codemirror_mode": {
    "name": "ipython",
    "version": 3
   },
   "file_extension": ".py",
   "mimetype": "text/x-python",
   "name": "python",
   "nbconvert_exporter": "python",
   "pygments_lexer": "ipython3",
   "version": "3.12.11"
  }
 },
 "nbformat": 4,
 "nbformat_minor": 5
}
