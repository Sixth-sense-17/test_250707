{
 "cells": [
  {
   "cell_type": "markdown",
   "id": "515db959",
   "metadata": {},
   "source": [
    "- '내 이름은 무엇일까요?'라고 물어본다.\n",
    "- '성은 무엇인가요?'를 추출하여 성에서 초성을 맞추면 해당 초성을 추출\n",
    "- 성을 맞추면 이름을 맞추도록 넘어간다\n",
    "- 성을 맞추면 50점, 이름을 맞추면 50점, 성과 이름을 맞추면 100점을 준다.\n",
    "- 이름은 랜덤으로 선택하여 해당 이름을 정답 이름으로 설정한다.\n",
    "- 초성 5개 이상 일치하면 한번 더 시도하세요!라고 대답한다. -> 어려움, 제외함"
   ]
  },
  {
   "cell_type": "code",
   "execution_count": 49,
   "id": "9376cccc",
   "metadata": {},
   "outputs": [],
   "source": [
    "import random\n",
    "def name_is(*names):\n",
    "    choice_name = random.choice(names)\n",
    "    if input_names == choice_name[0:1]:\n",
    "        print('50점')\n",
    "\n",
    "    elif input_names == choice_name[0:2]:\n",
    "        print('50점')\n",
    "\n",
    "    elif input_names == choice_name[0:3]:       \n",
    "        print('축하합니다. 100점 입니다.')\n",
    "    else:\n",
    "        print(f'{input_names}님은 알맞지 않습니다. 다시 시도하세요.')\n",
    "    return choice_name "
   ]
  },
  {
   "cell_type": "code",
   "execution_count": 58,
   "id": "ffc75e4b",
   "metadata": {},
   "outputs": [
    {
     "name": "stdout",
     "output_type": "stream",
     "text": [
      "축하합니다. 100점 입니다.\n",
      "오영균님은 존재합니다. 정답입니다.\n"
     ]
    }
   ],
   "source": [
    "input_names = input(\"내 이름은 무엇일까요?\")\n",
    "result = name_is('김주영','김미영','오한나','오영균','한성준','이상이','박태인','라미연')\n",
    "print(f'{result}님은 존재합니다. 정답입니다.')"
   ]
  }
 ],
 "metadata": {
  "kernelspec": {
   "display_name": "pystudy_env",
   "language": "python",
   "name": "python3"
  },
  "language_info": {
   "codemirror_mode": {
    "name": "ipython",
    "version": 3
   },
   "file_extension": ".py",
   "mimetype": "text/x-python",
   "name": "python",
   "nbconvert_exporter": "python",
   "pygments_lexer": "ipython3",
   "version": "3.12.11"
  }
 },
 "nbformat": 4,
 "nbformat_minor": 5
}
